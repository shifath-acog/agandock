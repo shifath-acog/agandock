{
 "cells": [
  {
   "cell_type": "code",
   "execution_count": 3,
   "id": "5adbfe27-af26-45b3-9b08-ddbbef6807ea",
   "metadata": {},
   "outputs": [],
   "source": [
    "import os\n",
    "from py3Dmol import view\n",
    "from IPython.display import display\n",
    "\n",
    "def visualize_3d_structures():\n",
    "    try:\n",
    "        # List files in the current directory\n",
    "        files_in_directory = os.listdir()\n",
    "\n",
    "        # Find PDB and SDF files in the current directory\n",
    "        receptor_pdb = next((file for file in files_in_directory if file.endswith('.pdb')), None)\n",
    "        ligand_sdf = next((file for file in files_in_directory if file.endswith('.sdf')), None)\n",
    "\n",
    "        if not receptor_pdb or not ligand_sdf:\n",
    "            print(\"PDB or SDF files not found in the current directory.\")\n",
    "            return\n",
    "        \n",
    "        # Read receptor and ligand files\n",
    "        with open(receptor_pdb, \"r\") as protein_file:\n",
    "            receptor_data = protein_file.read()\n",
    "\n",
    "        with open(ligand_sdf, \"r\") as ligand_file:\n",
    "            ligand_data = ligand_file.read()\n",
    "\n",
    "        # Create the 3Dmol viewer\n",
    "        viewer = view(width=800, height=600)\n",
    "        viewer.addModel(receptor_data, 'pdb')\n",
    "        viewer.setStyle({'model': 0}, {'cartoon': {'color': 'lightblue', 'opacity': 0.8}})  \n",
    "        \n",
    "        viewer.addModel(ligand_data, 'sdf')\n",
    "        viewer.setStyle({'model': 1}, {'stick': {'colorscheme': 'greenCarbon'}})\n",
    "        viewer.setBackgroundColor('white')\n",
    "        viewer.zoomTo()\n",
    "\n",
    "        # Display the viewer in the Jupyter notebook\n",
    "        display(viewer)\n",
    "\n",
    "    except Exception as e:\n",
    "        print(f\"An error occurred while visualizing 3D structures: {e}\")\n"
   ]
  },
  {
   "cell_type": "code",
   "execution_count": 4,
   "id": "956d3023-989c-413e-9996-0dfacfc990fc",
   "metadata": {},
   "outputs": [
    {
     "name": "stdout",
     "output_type": "stream",
     "text": [
      "1_sdf_to_mol2.sh         aganitha-logo.png      logo.svg\n",
      "2_mol2_to_pdbqt.sh       aganitha-logo.svg      \u001b[0m\u001b[01;34mplip\u001b[0m/\n",
      "3_pdbqt_to_smiles.sh     back_ground.jpg        streamlit_utils.py\n",
      "4_pdbqt_to_sdf.sh        data_analysis.py       streamlit_utils_pb.py\n",
      "5_posebusters_filter.sh  docking_setup.py       visualize.py\n",
      "Untitled.ipynb           docking_utils.py\n",
      "\u001b[01;34m__pycache__\u001b[0m/             header_background.png\n"
     ]
    }
   ],
   "source": [
    "ls"
   ]
  },
  {
   "cell_type": "code",
   "execution_count": null,
   "id": "8318d5fb-1b59-49c7-8661-99293d03c3a0",
   "metadata": {},
   "outputs": [],
   "source": []
  }
 ],
 "metadata": {
  "kernelspec": {
   "display_name": "Python 3 (ipykernel)",
   "language": "python",
   "name": "python3"
  },
  "language_info": {
   "codemirror_mode": {
    "name": "ipython",
    "version": 3
   },
   "file_extension": ".py",
   "mimetype": "text/x-python",
   "name": "python",
   "nbconvert_exporter": "python",
   "pygments_lexer": "ipython3",
   "version": "3.9.15"
  }
 },
 "nbformat": 4,
 "nbformat_minor": 5
}
